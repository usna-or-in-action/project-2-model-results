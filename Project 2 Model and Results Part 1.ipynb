{
 "cells": [
  {
   "cell_type": "markdown",
   "id": "aa1ff1d8-e450-482d-ba6a-8c92845be1e7",
   "metadata": {
    "editable": true,
    "slideshow": {
     "slide_type": ""
    },
    "tags": []
   },
   "source": [
    "**Operations Research in Action &#x25aa; Fall 2024**"
   ]
  },
  {
   "cell_type": "markdown",
   "id": "0fe42815-2da3-4e34-887b-0e1261456f82",
   "metadata": {
    "editable": true,
    "slideshow": {
     "slide_type": ""
    },
    "tags": []
   },
   "source": [
    "# Project 2 &ndash; Model and Results &ndash; Part 1 "
   ]
  },
  {
   "cell_type": "markdown",
   "id": "c99dd661-4bba-412b-b5ea-37ab181dd48b",
   "metadata": {
    "editable": true,
    "slideshow": {
     "slide_type": ""
    },
    "tags": []
   },
   "source": [
    "__To prepare the data for modeling:__\n",
    "\n",
    "__1. Use Python to read the wide form of the stint data into a Pandas DataFrame.__\n",
    "\n",
    "__2. Add the plus-minus per minute for each stint to the DataFrame.__\n",
    "\n",
    "__3. Output the DataFrame to a CSV file so that you can read it using R.__"
   ]
  },
  {
   "cell_type": "code",
   "execution_count": null,
   "id": "157094c6-7971-4fd9-a6d9-ecf229381ccb",
   "metadata": {},
   "outputs": [],
   "source": []
  }
 ],
 "metadata": {
  "kernelspec": {
   "display_name": "Python 3 (ipykernel)",
   "language": "python",
   "name": "python3"
  },
  "language_info": {
   "codemirror_mode": {
    "name": "ipython",
    "version": 3
   },
   "file_extension": ".py",
   "mimetype": "text/x-python",
   "name": "python",
   "nbconvert_exporter": "python",
   "pygments_lexer": "ipython3",
   "version": "3.11.6"
  }
 },
 "nbformat": 4,
 "nbformat_minor": 5
}
