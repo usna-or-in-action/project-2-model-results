{
 "cells": [
  {
   "cell_type": "markdown",
   "id": "2076150c-4f08-4bc6-a710-5a932961fbbf",
   "metadata": {
    "editable": true,
    "slideshow": {
     "slide_type": ""
    },
    "tags": []
   },
   "source": [
    "**Operations Research in Action &#x25aa; Fall 2024**"
   ]
  },
  {
   "cell_type": "markdown",
   "id": "7355a463-3712-45dc-b54f-8b8e629a28a9",
   "metadata": {
    "editable": true,
    "slideshow": {
     "slide_type": ""
    },
    "tags": []
   },
   "source": [
    "# Project 2 &ndash; Model and Results &ndash; Part 3"
   ]
  },
  {
   "cell_type": "markdown",
   "id": "19db3b2c-3e74-438e-9985-54223c184505",
   "metadata": {
    "editable": true,
    "slideshow": {
     "slide_type": ""
    },
    "tags": []
   },
   "source": [
    "Let's start with some data wrangling to prepare the data for use in an optimization model."
   ]
  },
  {
   "cell_type": "markdown",
   "id": "f321a19b-53bc-402e-9412-4a0ae88d9a3a",
   "metadata": {
    "editable": true,
    "slideshow": {
     "slide_type": ""
    },
    "tags": []
   },
   "source": [
    "__Read in the player ratings data.__"
   ]
  },
  {
   "cell_type": "code",
   "execution_count": null,
   "id": "764f6a45-1c11-459e-98b8-bc57cfd3417d",
   "metadata": {
    "editable": true,
    "slideshow": {
     "slide_type": ""
    },
    "tags": []
   },
   "outputs": [],
   "source": []
  },
  {
   "cell_type": "code",
   "execution_count": 1,
   "id": "7a56833b-d642-4a34-a501-6d30f2b18b23",
   "metadata": {
    "editable": true,
    "slideshow": {
     "slide_type": ""
    },
    "tags": [
     "solution"
    ]
   },
   "outputs": [],
   "source": [
    "# Solution\n",
    "import pandas as pd"
   ]
  },
  {
   "cell_type": "code",
   "execution_count": 2,
   "id": "da3f762e-3352-4aa4-9976-4acf760a9032",
   "metadata": {
    "editable": true,
    "slideshow": {
     "slide_type": ""
    },
    "tags": [
     "solution"
    ]
   },
   "outputs": [
    {
     "data": {
      "text/html": [
       "<div>\n",
       "<style scoped>\n",
       "    .dataframe tbody tr th:only-of-type {\n",
       "        vertical-align: middle;\n",
       "    }\n",
       "\n",
       "    .dataframe tbody tr th {\n",
       "        vertical-align: top;\n",
       "    }\n",
       "\n",
       "    .dataframe thead th {\n",
       "        text-align: right;\n",
       "    }\n",
       "</style>\n",
       "<table border=\"1\" class=\"dataframe\">\n",
       "  <thead>\n",
       "    <tr style=\"text-align: right;\">\n",
       "      <th></th>\n",
       "      <th>player</th>\n",
       "      <th>rating</th>\n",
       "    </tr>\n",
       "  </thead>\n",
       "  <tbody>\n",
       "    <tr>\n",
       "      <th>0</th>\n",
       "      <td>USA_p1</td>\n",
       "      <td>3.0</td>\n",
       "    </tr>\n",
       "    <tr>\n",
       "      <th>1</th>\n",
       "      <td>USA_p2</td>\n",
       "      <td>3.0</td>\n",
       "    </tr>\n",
       "    <tr>\n",
       "      <th>2</th>\n",
       "      <td>USA_p3</td>\n",
       "      <td>3.5</td>\n",
       "    </tr>\n",
       "    <tr>\n",
       "      <th>3</th>\n",
       "      <td>USA_p4</td>\n",
       "      <td>0.0</td>\n",
       "    </tr>\n",
       "    <tr>\n",
       "      <th>4</th>\n",
       "      <td>USA_p5</td>\n",
       "      <td>2.0</td>\n",
       "    </tr>\n",
       "  </tbody>\n",
       "</table>\n",
       "</div>"
      ],
      "text/plain": [
       "   player  rating\n",
       "0  USA_p1     3.0\n",
       "1  USA_p2     3.0\n",
       "2  USA_p3     3.5\n",
       "3  USA_p4     0.0\n",
       "4  USA_p5     2.0"
      ]
     },
     "execution_count": 2,
     "metadata": {},
     "output_type": "execute_result"
    }
   ],
   "source": [
    "# Solution\n",
    "ratings_df = pd.read_csv('data/player_data.csv')\n",
    "ratings_df.head()"
   ]
  },
  {
   "cell_type": "markdown",
   "id": "5cfb6ddc-02d5-445b-a2c2-350a6450e1d6",
   "metadata": {
    "editable": true,
    "slideshow": {
     "slide_type": ""
    },
    "tags": []
   },
   "source": [
    "__Read in the estimated coefficients that we wrote to a CSV file at the end of Part 2. When reading in the data, set the column name for the coefficients to `apm`.__"
   ]
  },
  {
   "cell_type": "code",
   "execution_count": null,
   "id": "ff2d0d1a-d5c0-4206-acf5-dd04c5a120bd",
   "metadata": {
    "editable": true,
    "slideshow": {
     "slide_type": ""
    },
    "tags": []
   },
   "outputs": [],
   "source": []
  },
  {
   "cell_type": "code",
   "execution_count": 3,
   "id": "d71de316-10d2-4ee6-aa92-87e657a64b15",
   "metadata": {
    "editable": true,
    "slideshow": {
     "slide_type": ""
    },
    "tags": [
     "solution"
    ]
   },
   "outputs": [
    {
     "data": {
      "text/html": [
       "<div>\n",
       "<style scoped>\n",
       "    .dataframe tbody tr th:only-of-type {\n",
       "        vertical-align: middle;\n",
       "    }\n",
       "\n",
       "    .dataframe tbody tr th {\n",
       "        vertical-align: top;\n",
       "    }\n",
       "\n",
       "    .dataframe thead th {\n",
       "        text-align: right;\n",
       "    }\n",
       "</style>\n",
       "<table border=\"1\" class=\"dataframe\">\n",
       "  <thead>\n",
       "    <tr style=\"text-align: right;\">\n",
       "      <th></th>\n",
       "      <th>player</th>\n",
       "      <th>apm</th>\n",
       "    </tr>\n",
       "  </thead>\n",
       "  <tbody>\n",
       "    <tr>\n",
       "      <th>0</th>\n",
       "      <td>(Intercept)</td>\n",
       "      <td>0.093834</td>\n",
       "    </tr>\n",
       "    <tr>\n",
       "      <th>1</th>\n",
       "      <td>USA_p1</td>\n",
       "      <td>0.359096</td>\n",
       "    </tr>\n",
       "    <tr>\n",
       "      <th>2</th>\n",
       "      <td>USA_p2</td>\n",
       "      <td>0.035917</td>\n",
       "    </tr>\n",
       "    <tr>\n",
       "      <th>3</th>\n",
       "      <td>USA_p3</td>\n",
       "      <td>0.446143</td>\n",
       "    </tr>\n",
       "    <tr>\n",
       "      <th>4</th>\n",
       "      <td>USA_p4</td>\n",
       "      <td>-0.699490</td>\n",
       "    </tr>\n",
       "  </tbody>\n",
       "</table>\n",
       "</div>"
      ],
      "text/plain": [
       "        player       apm\n",
       "0  (Intercept)  0.093834\n",
       "1       USA_p1  0.359096\n",
       "2       USA_p2  0.035917\n",
       "3       USA_p3  0.446143\n",
       "4       USA_p4 -0.699490"
      ]
     },
     "execution_count": 3,
     "metadata": {},
     "output_type": "execute_result"
    }
   ],
   "source": [
    "# Solution\n",
    "coefs_df = pd.read_csv(\n",
    "    'coefs.csv',\n",
    "    skiprows=1,\n",
    "    header=None,\n",
    "    names=['player', 'apm']\n",
    ")\n",
    "coefs_df.head()"
   ]
  },
  {
   "cell_type": "markdown",
   "id": "5a6d6d7c-2735-4777-9141-c722fb30ba9b",
   "metadata": {
    "editable": true,
    "slideshow": {
     "slide_type": ""
    },
    "tags": []
   },
   "source": [
    "__Merge these two DataFrames by player.__\n",
    "\n",
    "Hint: the APM for Chile_p12 will be NA, so you'll have to fill in this one manually. To replace all values of NA in a DataFrame with 0, you can apply `.fillna(0)` to the DataFrame."
   ]
  },
  {
   "cell_type": "code",
   "execution_count": null,
   "id": "b60430f8-9c5f-4201-bdbd-c8f578d65087",
   "metadata": {
    "editable": true,
    "slideshow": {
     "slide_type": ""
    },
    "tags": []
   },
   "outputs": [],
   "source": []
  },
  {
   "cell_type": "code",
   "execution_count": 4,
   "id": "fc7aee28-9bc3-4df8-aee4-6baad4232ac3",
   "metadata": {
    "editable": true,
    "slideshow": {
     "slide_type": ""
    },
    "tags": [
     "solution"
    ]
   },
   "outputs": [
    {
     "data": {
      "text/html": [
       "<div>\n",
       "<style scoped>\n",
       "    .dataframe tbody tr th:only-of-type {\n",
       "        vertical-align: middle;\n",
       "    }\n",
       "\n",
       "    .dataframe tbody tr th {\n",
       "        vertical-align: top;\n",
       "    }\n",
       "\n",
       "    .dataframe thead th {\n",
       "        text-align: right;\n",
       "    }\n",
       "</style>\n",
       "<table border=\"1\" class=\"dataframe\">\n",
       "  <thead>\n",
       "    <tr style=\"text-align: right;\">\n",
       "      <th></th>\n",
       "      <th>player</th>\n",
       "      <th>rating</th>\n",
       "      <th>apm</th>\n",
       "    </tr>\n",
       "  </thead>\n",
       "  <tbody>\n",
       "    <tr>\n",
       "      <th>0</th>\n",
       "      <td>USA_p1</td>\n",
       "      <td>3.0</td>\n",
       "      <td>0.359096</td>\n",
       "    </tr>\n",
       "    <tr>\n",
       "      <th>1</th>\n",
       "      <td>USA_p2</td>\n",
       "      <td>3.0</td>\n",
       "      <td>0.035917</td>\n",
       "    </tr>\n",
       "    <tr>\n",
       "      <th>2</th>\n",
       "      <td>USA_p3</td>\n",
       "      <td>3.5</td>\n",
       "      <td>0.446143</td>\n",
       "    </tr>\n",
       "    <tr>\n",
       "      <th>3</th>\n",
       "      <td>USA_p4</td>\n",
       "      <td>0.0</td>\n",
       "      <td>-0.699490</td>\n",
       "    </tr>\n",
       "    <tr>\n",
       "      <th>4</th>\n",
       "      <td>USA_p5</td>\n",
       "      <td>2.0</td>\n",
       "      <td>-0.284978</td>\n",
       "    </tr>\n",
       "  </tbody>\n",
       "</table>\n",
       "</div>"
      ],
      "text/plain": [
       "   player  rating       apm\n",
       "0  USA_p1     3.0  0.359096\n",
       "1  USA_p2     3.0  0.035917\n",
       "2  USA_p3     3.5  0.446143\n",
       "3  USA_p4     0.0 -0.699490\n",
       "4  USA_p5     2.0 -0.284978"
      ]
     },
     "execution_count": 4,
     "metadata": {},
     "output_type": "execute_result"
    }
   ],
   "source": [
    "# Solution\n",
    "players_df = ratings_df.merge(coefs_df, on=['player'], how='left').fillna(0)\n",
    "players_df.head()"
   ]
  },
  {
   "cell_type": "markdown",
   "id": "f07e5fda-6247-4fa5-aca4-4ec64ac2f99b",
   "metadata": {
    "editable": true,
    "slideshow": {
     "slide_type": ""
    },
    "tags": []
   },
   "source": [
    "Now, let's find the lineup for Canada with the maximum total APM.\n",
    "\n",
    "__On a sheet of paper, write down your optimization model.__\n",
    "\n",
    "Don't forget to define all the components:\n",
    "\n",
    "- Sets\n",
    "- Parameters\n",
    "- Decision variables\n",
    "- Objective function\n",
    "- Constraints"
   ]
  },
  {
   "attachments": {},
   "cell_type": "markdown",
   "id": "46592c52-000c-4889-8f3e-e5f5d0570913",
   "metadata": {
    "editable": true,
    "slideshow": {
     "slide_type": ""
    },
    "tags": [
     "solution"
    ]
   },
   "source": [
    "_Solution._\n",
    "\n",
    "_Sets._\n",
    "\n",
    "- $P$ = set of players \n",
    "    - Let's use Canada as an example\n",
    "\n",
    "_Parameters._\n",
    "\n",
    "- $r_i$ = rating for player $i$, for $i \\in P$\n",
    "- $a_i$ = adjusted plus-minus for player $i$, for $i \\in P$\n",
    "\n",
    "_Decision variables._\n",
    "\n",
    "$$x_i = \\begin{cases} 1 & \\text{if player } i \\text{ is chosen} \\\\ 0 & \\text{otherwise} \\end{cases} \\quad \\text{for } i \\in P$$\n",
    "\n",
    "_Objective function._\n",
    "\n",
    "Maximize total APM of players selected\n",
    "$$\n",
    "\\begin{equation*} \n",
    "    \\text{maximize} \\quad \\sum_{i \\in P} a_{i} x_{i}\n",
    "\\end{equation*}\n",
    "$$\n",
    "\n",
    "_Constraints._\n",
    "\n",
    "Exactly 4 players must be chosen\n",
    "$$\n",
    "\\begin{equation*}\n",
    "\\text{subject to} \\quad \\sum_{i \\in P} x_{i} = 4\n",
    "\\end{equation*}\n",
    "$$\n",
    "\n",
    "Total rating of players selected cannot exceed 8\n",
    "$$\n",
    "\\begin{equation*}\n",
    "\\sum_{i \\in P} r_i x_i \\le 8\n",
    "\\end{equation*}\n",
    "$$"
   ]
  },
  {
   "cell_type": "markdown",
   "id": "3f7fa0fb-31f0-426f-b5df-86d02f2960b4",
   "metadata": {
    "editable": true,
    "slideshow": {
     "slide_type": ""
    },
    "tags": []
   },
   "source": [
    "__Now that you've written down your model, implement it using Pyomo.__"
   ]
  },
  {
   "cell_type": "code",
   "execution_count": 5,
   "id": "b1ffc719-2867-4822-be25-8fc1c348d2b1",
   "metadata": {
    "editable": true,
    "slideshow": {
     "slide_type": ""
    },
    "tags": [
     "solution"
    ]
   },
   "outputs": [],
   "source": [
    "# Solution\n",
    "import pyomo.environ as pyo"
   ]
  },
  {
   "cell_type": "code",
   "execution_count": 6,
   "id": "a0485aec-eac5-427e-8860-a0b5bbb5e0e4",
   "metadata": {
    "editable": true,
    "slideshow": {
     "slide_type": ""
    },
    "tags": [
     "solution"
    ]
   },
   "outputs": [
    {
     "name": "stdout",
     "output_type": "stream",
     "text": [
      "GLPSOL--GLPK LP/MIP Solver 5.0\n",
      "Parameter(s) specified in the command line:\n",
      " --write /var/folders/5f/9j0fjx714bj54dg_j7b_5r_m0000gq/T/tmpkjfdohde.glpk.raw\n",
      " --wglp /var/folders/5f/9j0fjx714bj54dg_j7b_5r_m0000gq/T/tmpgy9qdjrn.glpk.glp\n",
      " --cpxlp /var/folders/5f/9j0fjx714bj54dg_j7b_5r_m0000gq/T/tmpzotupute.pyomo.lp\n",
      "Reading problem data from '/var/folders/5f/9j0fjx714bj54dg_j7b_5r_m0000gq/T/tmpzotupute.pyomo.lp'...\n",
      "/var/folders/5f/9j0fjx714bj54dg_j7b_5r_m0000gq/T/tmpzotupute.pyomo.lp:63: warning: lower bound of variable 'x2' redefined\n",
      "/var/folders/5f/9j0fjx714bj54dg_j7b_5r_m0000gq/T/tmpzotupute.pyomo.lp:63: warning: upper bound of variable 'x2' redefined\n",
      "2 rows, 12 columns, 23 non-zeros\n",
      "12 integer variables, all of which are binary\n",
      "75 lines were read\n",
      "Writing problem data to '/var/folders/5f/9j0fjx714bj54dg_j7b_5r_m0000gq/T/tmpgy9qdjrn.glpk.glp'...\n",
      "54 lines were written\n",
      "GLPK Integer Optimizer 5.0\n",
      "2 rows, 12 columns, 23 non-zeros\n",
      "12 integer variables, all of which are binary\n",
      "Preprocessing...\n",
      "2 rows, 12 columns, 23 non-zeros\n",
      "12 integer variables, all of which are binary\n",
      "Scaling...\n",
      " A: min|aij| =  5.000e-01  max|aij| =  3.500e+00  ratio =  7.000e+00\n",
      "Problem data seem to be well scaled\n",
      "Constructing initial basis...\n",
      "Size of triangular part is 2\n",
      "Solving LP relaxation...\n",
      "GLPK Simplex Optimizer 5.0\n",
      "2 rows, 12 columns, 23 non-zeros\n",
      "      0: obj =  -1.532197383e+00 inf =   3.000e+00 (1)\n",
      "      3: obj =  -2.936476478e-01 inf =   0.000e+00 (0)\n",
      "*    10: obj =   1.008453998e+00 inf =   0.000e+00 (0)\n",
      "OPTIMAL LP SOLUTION FOUND\n",
      "Integer optimization begins...\n",
      "Long-step dual simplex will be used\n",
      "+    10: mip =     not found yet <=              +inf        (1; 0)\n",
      "+    10: >>>>>   1.008453998e+00 <=   1.008453998e+00   0.0% (1; 0)\n",
      "+    10: mip =   1.008453998e+00 <=     tree is empty   0.0% (0; 1)\n",
      "INTEGER OPTIMAL SOLUTION FOUND\n",
      "Time used:   0.0 secs\n",
      "Memory used: 0.1 Mb (54048 bytes)\n",
      "Writing MIP solution to '/var/folders/5f/9j0fjx714bj54dg_j7b_5r_m0000gq/T/tmpkjfdohde.glpk.raw'...\n",
      "23 lines were written\n"
     ]
    }
   ],
   "source": [
    "# Solution\n",
    "P = [i for i in players_df['player'] if i.startswith('Canada')]\n",
    "\n",
    "r = dict(zip(players_df['player'], players_df['rating']))\n",
    "a = dict(zip(players_df['player'], players_df['apm']))\n",
    "\n",
    "model = pyo.ConcreteModel()\n",
    "\n",
    "model.x = pyo.Var(P, domain=pyo.Binary)\n",
    "\n",
    "def obj_rule(model):\n",
    "    return sum(a[i] * model.x[i] for i in P)\n",
    "model.obj = pyo.Objective(rule=obj_rule, sense=pyo.maximize)\n",
    "\n",
    "def team_size_rule(model):\n",
    "    return sum(model.x[i] for i in P) == 4\n",
    "model.team_size = pyo.Constraint(rule=team_size_rule)\n",
    "\n",
    "def total_rating_rule(model):\n",
    "    return sum(r[i] * model.x[i] for i in P) <= 8\n",
    "model.total_rating = pyo.Constraint(rule=total_rating_rule)\n",
    "\n",
    "solver = pyo.SolverFactory('glpk')\n",
    "results = solver.solve(model, tee=True)"
   ]
  },
  {
   "cell_type": "markdown",
   "id": "524a36e4-352b-483d-9e31-9e7eab2e9166",
   "metadata": {
    "editable": true,
    "slideshow": {
     "slide_type": ""
    },
    "tags": []
   },
   "source": [
    "__Interpret the optimal solution: what is the optimal lineup?__"
   ]
  },
  {
   "cell_type": "code",
   "execution_count": null,
   "id": "df1dd4e3-f020-46dc-84d7-34f90622e35e",
   "metadata": {
    "editable": true,
    "slideshow": {
     "slide_type": ""
    },
    "tags": []
   },
   "outputs": [],
   "source": []
  },
  {
   "cell_type": "code",
   "execution_count": 7,
   "id": "2c571bcf-78b1-453f-a653-5dec57919495",
   "metadata": {
    "editable": true,
    "slideshow": {
     "slide_type": ""
    },
    "tags": [
     "solution"
    ]
   },
   "outputs": [
    {
     "name": "stdout",
     "output_type": "stream",
     "text": [
      "Canada_p2\n",
      "Canada_p8\n",
      "Canada_p9\n",
      "Canada_p11\n"
     ]
    }
   ],
   "source": [
    "# Solution\n",
    "for i in P:\n",
    "    if model.x[i].value > 0.5:\n",
    "        print(i)"
   ]
  },
  {
   "cell_type": "markdown",
   "id": "3f2e7bc7-f1a2-4a93-be39-f9a17375bd3d",
   "metadata": {
    "editable": true,
    "slideshow": {
     "slide_type": ""
    },
    "tags": []
   },
   "source": [
    "__Find the All-Star Team: find the lineup with the maximum total APM across *all* teams.__"
   ]
  },
  {
   "cell_type": "code",
   "execution_count": null,
   "id": "d075df9a-be99-445c-aac8-d42252f661c1",
   "metadata": {
    "editable": true,
    "slideshow": {
     "slide_type": ""
    },
    "tags": []
   },
   "outputs": [],
   "source": []
  },
  {
   "cell_type": "code",
   "execution_count": 8,
   "id": "78f5c6ad-b268-4a13-b93c-819c1007a5c5",
   "metadata": {
    "editable": true,
    "slideshow": {
     "slide_type": ""
    },
    "tags": [
     "solution"
    ]
   },
   "outputs": [
    {
     "name": "stdout",
     "output_type": "stream",
     "text": [
      "GLPSOL--GLPK LP/MIP Solver 5.0\n",
      "Parameter(s) specified in the command line:\n",
      " --write /var/folders/5f/9j0fjx714bj54dg_j7b_5r_m0000gq/T/tmpcvofia2v.glpk.raw\n",
      " --wglp /var/folders/5f/9j0fjx714bj54dg_j7b_5r_m0000gq/T/tmp8ex1fvpq.glpk.glp\n",
      " --cpxlp /var/folders/5f/9j0fjx714bj54dg_j7b_5r_m0000gq/T/tmpigdu04fu.pyomo.lp\n",
      "Reading problem data from '/var/folders/5f/9j0fjx714bj54dg_j7b_5r_m0000gq/T/tmpigdu04fu.pyomo.lp'...\n",
      "/var/folders/5f/9j0fjx714bj54dg_j7b_5r_m0000gq/T/tmpigdu04fu.pyomo.lp:585: warning: lower bound of variable 'x2' redefined\n",
      "/var/folders/5f/9j0fjx714bj54dg_j7b_5r_m0000gq/T/tmpigdu04fu.pyomo.lp:585: warning: upper bound of variable 'x2' redefined\n",
      "2 rows, 144 columns, 282 non-zeros\n",
      "144 integer variables, all of which are binary\n",
      "729 lines were read\n",
      "Writing problem data to '/var/folders/5f/9j0fjx714bj54dg_j7b_5r_m0000gq/T/tmp8ex1fvpq.glpk.glp'...\n",
      "576 lines were written\n",
      "GLPK Integer Optimizer 5.0\n",
      "2 rows, 144 columns, 282 non-zeros\n",
      "144 integer variables, all of which are binary\n",
      "Preprocessing...\n",
      "2 rows, 144 columns, 282 non-zeros\n",
      "144 integer variables, all of which are binary\n",
      "Scaling...\n",
      " A: min|aij| =  5.000e-01  max|aij| =  3.500e+00  ratio =  7.000e+00\n",
      "Problem data seem to be well scaled\n",
      "Constructing initial basis...\n",
      "Size of triangular part is 2\n",
      "Solving LP relaxation...\n",
      "GLPK Simplex Optimizer 5.0\n",
      "2 rows, 144 columns, 282 non-zeros\n",
      "      0: obj =  -0.000000000e+00 inf =   3.000e+00 (1)\n",
      "      4: obj =   2.284736331e-02 inf =   0.000e+00 (0)\n",
      "*    15: obj =   2.033083203e+00 inf =   0.000e+00 (0)\n",
      "OPTIMAL LP SOLUTION FOUND\n",
      "Integer optimization begins...\n",
      "Long-step dual simplex will be used\n",
      "+    15: mip =     not found yet <=              +inf        (1; 0)\n",
      "+    15: >>>>>   2.033083203e+00 <=   2.033083203e+00   0.0% (1; 0)\n",
      "+    15: mip =   2.033083203e+00 <=     tree is empty   0.0% (0; 1)\n",
      "INTEGER OPTIMAL SOLUTION FOUND\n",
      "Time used:   0.0 secs\n",
      "Memory used: 0.2 Mb (162892 bytes)\n",
      "Writing MIP solution to '/var/folders/5f/9j0fjx714bj54dg_j7b_5r_m0000gq/T/tmpcvofia2v.glpk.raw'...\n",
      "155 lines were written\n",
      "Japan_p12\n",
      "Canada_p2\n",
      "Denmark_p8\n",
      "Brazil_p1\n"
     ]
    }
   ],
   "source": [
    "# Solution\n",
    "P = list(players_df['player'])\n",
    "r = dict(zip(players_df['player'], players_df['rating']))\n",
    "a = dict(zip(players_df['player'], players_df['apm']))\n",
    "\n",
    "model = pyo.ConcreteModel()\n",
    "model.x = pyo.Var(P, domain=pyo.Binary)\n",
    "\n",
    "def obj_rule(model):\n",
    "    return sum(a[i] * model.x[i] for i in P)\n",
    "model.obj = pyo.Objective(rule=obj_rule, sense=pyo.maximize)\n",
    "\n",
    "def team_size_rule(model):\n",
    "    return sum(model.x[i] for i in P) == 4\n",
    "model.team_size = pyo.Constraint(rule=team_size_rule)\n",
    "\n",
    "def total_rating_rule(model):\n",
    "    return sum(r[i] * model.x[i] for i in P) <= 8\n",
    "model.total_rating = pyo.Constraint(rule=total_rating_rule)\n",
    "\n",
    "solver = pyo.SolverFactory('glpk')\n",
    "results = solver.solve(model, tee=True)\n",
    "\n",
    "for i in P:\n",
    "    if model.x[i].value > 0.5:\n",
    "        print(i)"
   ]
  }
 ],
 "metadata": {
  "kernelspec": {
   "display_name": "Python 3 (ipykernel)",
   "language": "python",
   "name": "python3"
  },
  "language_info": {
   "codemirror_mode": {
    "name": "ipython",
    "version": 3
   },
   "file_extension": ".py",
   "mimetype": "text/x-python",
   "name": "python",
   "nbconvert_exporter": "python",
   "pygments_lexer": "ipython3",
   "version": "3.11.6"
  }
 },
 "nbformat": 4,
 "nbformat_minor": 5
}
