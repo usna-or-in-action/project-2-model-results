{
 "cells": [
  {
   "cell_type": "markdown",
   "id": "2076150c-4f08-4bc6-a710-5a932961fbbf",
   "metadata": {
    "editable": true,
    "slideshow": {
     "slide_type": ""
    },
    "tags": []
   },
   "source": [
    "**Operations Research in Action &#x25aa; Fall 2024**"
   ]
  },
  {
   "cell_type": "markdown",
   "id": "7355a463-3712-45dc-b54f-8b8e629a28a9",
   "metadata": {
    "editable": true,
    "slideshow": {
     "slide_type": ""
    },
    "tags": []
   },
   "source": [
    "# Project 2 &ndash; Model and Results &ndash; Part 3"
   ]
  },
  {
   "cell_type": "markdown",
   "id": "19db3b2c-3e74-438e-9985-54223c184505",
   "metadata": {
    "editable": true,
    "slideshow": {
     "slide_type": ""
    },
    "tags": []
   },
   "source": [
    "Let's start with some data wrangling to prepare the data for use in an optimization model."
   ]
  },
  {
   "cell_type": "markdown",
   "id": "f321a19b-53bc-402e-9412-4a0ae88d9a3a",
   "metadata": {
    "editable": true,
    "slideshow": {
     "slide_type": ""
    },
    "tags": []
   },
   "source": [
    "__Read in the player ratings data.__"
   ]
  },
  {
   "cell_type": "code",
   "execution_count": null,
   "id": "764f6a45-1c11-459e-98b8-bc57cfd3417d",
   "metadata": {
    "editable": true,
    "slideshow": {
     "slide_type": ""
    },
    "tags": []
   },
   "outputs": [],
   "source": []
  },
  {
   "cell_type": "markdown",
   "id": "5cfb6ddc-02d5-445b-a2c2-350a6450e1d6",
   "metadata": {
    "editable": true,
    "slideshow": {
     "slide_type": ""
    },
    "tags": []
   },
   "source": [
    "__Read in the estimated coefficients that we wrote to a CSV file at the end of Part 2. When reading in the data, set the column name for the coefficients to `apm`.__"
   ]
  },
  {
   "cell_type": "code",
   "execution_count": null,
   "id": "ff2d0d1a-d5c0-4206-acf5-dd04c5a120bd",
   "metadata": {
    "editable": true,
    "slideshow": {
     "slide_type": ""
    },
    "tags": []
   },
   "outputs": [],
   "source": []
  },
  {
   "cell_type": "markdown",
   "id": "5a6d6d7c-2735-4777-9141-c722fb30ba9b",
   "metadata": {
    "editable": true,
    "slideshow": {
     "slide_type": ""
    },
    "tags": []
   },
   "source": [
    "__Merge these two DataFrames by player.__\n",
    "\n",
    "Hint: the APM for Chile_p12 will be NA, so you'll have to fill in this one manually. To replace all values of NA in a DataFrame with 0, you can apply `.fillna(0)` to the DataFrame."
   ]
  },
  {
   "cell_type": "code",
   "execution_count": null,
   "id": "b60430f8-9c5f-4201-bdbd-c8f578d65087",
   "metadata": {
    "editable": true,
    "slideshow": {
     "slide_type": ""
    },
    "tags": []
   },
   "outputs": [],
   "source": []
  },
  {
   "cell_type": "markdown",
   "id": "f07e5fda-6247-4fa5-aca4-4ec64ac2f99b",
   "metadata": {
    "editable": true,
    "slideshow": {
     "slide_type": ""
    },
    "tags": []
   },
   "source": [
    "Now, let's find the lineup for Canada with the maximum total APM.\n",
    "\n",
    "__On a sheet of paper, write down your optimization model.__\n",
    "\n",
    "Don't forget to define all the components:\n",
    "\n",
    "- Sets\n",
    "- Parameters\n",
    "- Decision variables\n",
    "- Objective function\n",
    "- Constraints"
   ]
  },
  {
   "cell_type": "markdown",
   "id": "3f7fa0fb-31f0-426f-b5df-86d02f2960b4",
   "metadata": {
    "editable": true,
    "slideshow": {
     "slide_type": ""
    },
    "tags": []
   },
   "source": [
    "__Now that you've written down your model, implement it using Pyomo.__"
   ]
  },
  {
   "cell_type": "markdown",
   "id": "524a36e4-352b-483d-9e31-9e7eab2e9166",
   "metadata": {
    "editable": true,
    "slideshow": {
     "slide_type": ""
    },
    "tags": []
   },
   "source": [
    "__Interpret the optimal solution: what is the optimal lineup?__"
   ]
  },
  {
   "cell_type": "code",
   "execution_count": null,
   "id": "df1dd4e3-f020-46dc-84d7-34f90622e35e",
   "metadata": {
    "editable": true,
    "slideshow": {
     "slide_type": ""
    },
    "tags": []
   },
   "outputs": [],
   "source": []
  },
  {
   "cell_type": "markdown",
   "id": "3f2e7bc7-f1a2-4a93-be39-f9a17375bd3d",
   "metadata": {
    "editable": true,
    "slideshow": {
     "slide_type": ""
    },
    "tags": []
   },
   "source": [
    "__Find the All-Star Team: find the lineup with the maximum total APM across *all* teams.__"
   ]
  },
  {
   "cell_type": "code",
   "execution_count": null,
   "id": "d075df9a-be99-445c-aac8-d42252f661c1",
   "metadata": {
    "editable": true,
    "slideshow": {
     "slide_type": ""
    },
    "tags": []
   },
   "outputs": [],
   "source": []
  }
 ],
 "metadata": {
  "kernelspec": {
   "display_name": "Python 3 (ipykernel)",
   "language": "python",
   "name": "python3"
  },
  "language_info": {
   "codemirror_mode": {
    "name": "ipython",
    "version": 3
   },
   "file_extension": ".py",
   "mimetype": "text/x-python",
   "name": "python",
   "nbconvert_exporter": "python",
   "pygments_lexer": "ipython3",
   "version": "3.11.6"
  }
 },
 "nbformat": 4,
 "nbformat_minor": 5
}
