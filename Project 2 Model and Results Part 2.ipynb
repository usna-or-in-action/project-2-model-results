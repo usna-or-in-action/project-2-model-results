{
 "cells": [
  {
   "cell_type": "markdown",
   "id": "7b67f2a3-5351-4d83-a8c1-732d115615a8",
   "metadata": {
    "editable": true,
    "slideshow": {
     "slide_type": ""
    },
    "tags": []
   },
   "source": [
    "**Operations Research in Action &#x25aa; Fall 2024**"
   ]
  },
  {
   "cell_type": "markdown",
   "id": "05e16b46-4fcc-4160-90ee-c11cec494659",
   "metadata": {
    "editable": true,
    "slideshow": {
     "slide_type": ""
    },
    "tags": []
   },
   "source": [
    "# Project 2 &ndash; Model and Results &ndash; Part 2"
   ]
  },
  {
   "cell_type": "markdown",
   "id": "3eba8feb-91b4-461b-bbf0-974ec322c563",
   "metadata": {},
   "source": [
    "How can we create the __adjusted plus-minus__ for each player? \n",
    "In other words, how can we measure the relative contribution of each player when they are on the court?"
   ]
  },
  {
   "cell_type": "markdown",
   "id": "fc8eeeba-4da6-4ef1-8193-b0b9b281b1a3",
   "metadata": {},
   "source": [
    "__Read in the data we created in Part 1.__"
   ]
  },
  {
   "cell_type": "code",
   "execution_count": null,
   "id": "858eb93d-3c47-4a6f-aebc-93d9d39e364c",
   "metadata": {},
   "outputs": [],
   "source": []
  },
  {
   "cell_type": "code",
   "execution_count": 1,
   "id": "6d3dc212-fbe8-4178-90dd-a05be8e8c1a9",
   "metadata": {
    "editable": true,
    "slideshow": {
     "slide_type": ""
    },
    "tags": [
     "solution"
    ]
   },
   "outputs": [
    {
     "data": {
      "text/html": [
       "<table class=\"dataframe\">\n",
       "<caption>A data.frame: 6 × 152</caption>\n",
       "<thead>\n",
       "\t<tr><th></th><th scope=col>game_id</th><th scope=col>stint_id</th><th scope=col>h_team</th><th scope=col>a_team</th><th scope=col>minutes</th><th scope=col>h_goals</th><th scope=col>a_goals</th><th scope=col>USA_p1</th><th scope=col>USA_p2</th><th scope=col>USA_p3</th><th scope=col>⋯</th><th scope=col>Chile_p4</th><th scope=col>Chile_p5</th><th scope=col>Chile_p6</th><th scope=col>Chile_p7</th><th scope=col>Chile_p8</th><th scope=col>Chile_p9</th><th scope=col>Chile_p10</th><th scope=col>Chile_p11</th><th scope=col>Chile_p12</th><th scope=col>pm</th></tr>\n",
       "\t<tr><th></th><th scope=col>&lt;int&gt;</th><th scope=col>&lt;int&gt;</th><th scope=col>&lt;chr&gt;</th><th scope=col>&lt;chr&gt;</th><th scope=col>&lt;dbl&gt;</th><th scope=col>&lt;int&gt;</th><th scope=col>&lt;int&gt;</th><th scope=col>&lt;int&gt;</th><th scope=col>&lt;int&gt;</th><th scope=col>&lt;int&gt;</th><th scope=col>⋯</th><th scope=col>&lt;int&gt;</th><th scope=col>&lt;int&gt;</th><th scope=col>&lt;int&gt;</th><th scope=col>&lt;int&gt;</th><th scope=col>&lt;int&gt;</th><th scope=col>&lt;int&gt;</th><th scope=col>&lt;int&gt;</th><th scope=col>&lt;int&gt;</th><th scope=col>&lt;int&gt;</th><th scope=col>&lt;dbl&gt;</th></tr>\n",
       "</thead>\n",
       "<tbody>\n",
       "\t<tr><th scope=row>1</th><td>1</td><td>1</td><td>USA</td><td>Japan</td><td>4.252969</td><td>4</td><td> 9</td><td>1</td><td>0</td><td>1</td><td>⋯</td><td>0</td><td>0</td><td>0</td><td>0</td><td>0</td><td>0</td><td>0</td><td>0</td><td>0</td><td>-1.1756493</td></tr>\n",
       "\t<tr><th scope=row>2</th><td>1</td><td>2</td><td>USA</td><td>Japan</td><td>5.688809</td><td>6</td><td>11</td><td>1</td><td>0</td><td>0</td><td>⋯</td><td>0</td><td>0</td><td>0</td><td>0</td><td>0</td><td>0</td><td>0</td><td>0</td><td>0</td><td>-0.8789186</td></tr>\n",
       "\t<tr><th scope=row>3</th><td>1</td><td>3</td><td>USA</td><td>Japan</td><td>1.149557</td><td>0</td><td> 1</td><td>1</td><td>0</td><td>0</td><td>⋯</td><td>0</td><td>0</td><td>0</td><td>0</td><td>0</td><td>0</td><td>0</td><td>0</td><td>0</td><td>-0.8699006</td></tr>\n",
       "\t<tr><th scope=row>4</th><td>1</td><td>4</td><td>USA</td><td>Japan</td><td>3.511617</td><td>7</td><td> 5</td><td>0</td><td>1</td><td>0</td><td>⋯</td><td>0</td><td>0</td><td>0</td><td>0</td><td>0</td><td>0</td><td>0</td><td>0</td><td>0</td><td> 0.5695382</td></tr>\n",
       "\t<tr><th scope=row>5</th><td>1</td><td>5</td><td>USA</td><td>Japan</td><td>2.163139</td><td>7</td><td> 5</td><td>0</td><td>0</td><td>0</td><td>⋯</td><td>0</td><td>0</td><td>0</td><td>0</td><td>0</td><td>0</td><td>0</td><td>0</td><td>0</td><td> 0.9245824</td></tr>\n",
       "\t<tr><th scope=row>6</th><td>1</td><td>6</td><td>USA</td><td>Japan</td><td>2.155972</td><td>0</td><td> 6</td><td>0</td><td>1</td><td>0</td><td>⋯</td><td>0</td><td>0</td><td>0</td><td>0</td><td>0</td><td>0</td><td>0</td><td>0</td><td>0</td><td>-2.7829681</td></tr>\n",
       "</tbody>\n",
       "</table>\n"
      ],
      "text/latex": [
       "A data.frame: 6 × 152\n",
       "\\begin{tabular}{r|lllllllllllllllllllll}\n",
       "  & game\\_id & stint\\_id & h\\_team & a\\_team & minutes & h\\_goals & a\\_goals & USA\\_p1 & USA\\_p2 & USA\\_p3 & ⋯ & Chile\\_p4 & Chile\\_p5 & Chile\\_p6 & Chile\\_p7 & Chile\\_p8 & Chile\\_p9 & Chile\\_p10 & Chile\\_p11 & Chile\\_p12 & pm\\\\\n",
       "  & <int> & <int> & <chr> & <chr> & <dbl> & <int> & <int> & <int> & <int> & <int> & ⋯ & <int> & <int> & <int> & <int> & <int> & <int> & <int> & <int> & <int> & <dbl>\\\\\n",
       "\\hline\n",
       "\t1 & 1 & 1 & USA & Japan & 4.252969 & 4 &  9 & 1 & 0 & 1 & ⋯ & 0 & 0 & 0 & 0 & 0 & 0 & 0 & 0 & 0 & -1.1756493\\\\\n",
       "\t2 & 1 & 2 & USA & Japan & 5.688809 & 6 & 11 & 1 & 0 & 0 & ⋯ & 0 & 0 & 0 & 0 & 0 & 0 & 0 & 0 & 0 & -0.8789186\\\\\n",
       "\t3 & 1 & 3 & USA & Japan & 1.149557 & 0 &  1 & 1 & 0 & 0 & ⋯ & 0 & 0 & 0 & 0 & 0 & 0 & 0 & 0 & 0 & -0.8699006\\\\\n",
       "\t4 & 1 & 4 & USA & Japan & 3.511617 & 7 &  5 & 0 & 1 & 0 & ⋯ & 0 & 0 & 0 & 0 & 0 & 0 & 0 & 0 & 0 &  0.5695382\\\\\n",
       "\t5 & 1 & 5 & USA & Japan & 2.163139 & 7 &  5 & 0 & 0 & 0 & ⋯ & 0 & 0 & 0 & 0 & 0 & 0 & 0 & 0 & 0 &  0.9245824\\\\\n",
       "\t6 & 1 & 6 & USA & Japan & 2.155972 & 0 &  6 & 0 & 1 & 0 & ⋯ & 0 & 0 & 0 & 0 & 0 & 0 & 0 & 0 & 0 & -2.7829681\\\\\n",
       "\\end{tabular}\n"
      ],
      "text/markdown": [
       "\n",
       "A data.frame: 6 × 152\n",
       "\n",
       "| <!--/--> | game_id &lt;int&gt; | stint_id &lt;int&gt; | h_team &lt;chr&gt; | a_team &lt;chr&gt; | minutes &lt;dbl&gt; | h_goals &lt;int&gt; | a_goals &lt;int&gt; | USA_p1 &lt;int&gt; | USA_p2 &lt;int&gt; | USA_p3 &lt;int&gt; | ⋯ ⋯ | Chile_p4 &lt;int&gt; | Chile_p5 &lt;int&gt; | Chile_p6 &lt;int&gt; | Chile_p7 &lt;int&gt; | Chile_p8 &lt;int&gt; | Chile_p9 &lt;int&gt; | Chile_p10 &lt;int&gt; | Chile_p11 &lt;int&gt; | Chile_p12 &lt;int&gt; | pm &lt;dbl&gt; |\n",
       "|---|---|---|---|---|---|---|---|---|---|---|---|---|---|---|---|---|---|---|---|---|---|\n",
       "| 1 | 1 | 1 | USA | Japan | 4.252969 | 4 |  9 | 1 | 0 | 1 | ⋯ | 0 | 0 | 0 | 0 | 0 | 0 | 0 | 0 | 0 | -1.1756493 |\n",
       "| 2 | 1 | 2 | USA | Japan | 5.688809 | 6 | 11 | 1 | 0 | 0 | ⋯ | 0 | 0 | 0 | 0 | 0 | 0 | 0 | 0 | 0 | -0.8789186 |\n",
       "| 3 | 1 | 3 | USA | Japan | 1.149557 | 0 |  1 | 1 | 0 | 0 | ⋯ | 0 | 0 | 0 | 0 | 0 | 0 | 0 | 0 | 0 | -0.8699006 |\n",
       "| 4 | 1 | 4 | USA | Japan | 3.511617 | 7 |  5 | 0 | 1 | 0 | ⋯ | 0 | 0 | 0 | 0 | 0 | 0 | 0 | 0 | 0 |  0.5695382 |\n",
       "| 5 | 1 | 5 | USA | Japan | 2.163139 | 7 |  5 | 0 | 0 | 0 | ⋯ | 0 | 0 | 0 | 0 | 0 | 0 | 0 | 0 | 0 |  0.9245824 |\n",
       "| 6 | 1 | 6 | USA | Japan | 2.155972 | 0 |  6 | 0 | 1 | 0 | ⋯ | 0 | 0 | 0 | 0 | 0 | 0 | 0 | 0 | 0 | -2.7829681 |\n",
       "\n"
      ],
      "text/plain": [
       "  game_id stint_id h_team a_team minutes  h_goals a_goals USA_p1 USA_p2 USA_p3\n",
       "1 1       1        USA    Japan  4.252969 4        9      1      0      1     \n",
       "2 1       2        USA    Japan  5.688809 6       11      1      0      0     \n",
       "3 1       3        USA    Japan  1.149557 0        1      1      0      0     \n",
       "4 1       4        USA    Japan  3.511617 7        5      0      1      0     \n",
       "5 1       5        USA    Japan  2.163139 7        5      0      0      0     \n",
       "6 1       6        USA    Japan  2.155972 0        6      0      1      0     \n",
       "  ⋯ Chile_p4 Chile_p5 Chile_p6 Chile_p7 Chile_p8 Chile_p9 Chile_p10 Chile_p11\n",
       "1 ⋯ 0        0        0        0        0        0        0         0        \n",
       "2 ⋯ 0        0        0        0        0        0        0         0        \n",
       "3 ⋯ 0        0        0        0        0        0        0         0        \n",
       "4 ⋯ 0        0        0        0        0        0        0         0        \n",
       "5 ⋯ 0        0        0        0        0        0        0         0        \n",
       "6 ⋯ 0        0        0        0        0        0        0         0        \n",
       "  Chile_p12 pm        \n",
       "1 0         -1.1756493\n",
       "2 0         -0.8789186\n",
       "3 0         -0.8699006\n",
       "4 0          0.5695382\n",
       "5 0          0.9245824\n",
       "6 0         -2.7829681"
      ]
     },
     "metadata": {},
     "output_type": "display_data"
    }
   ],
   "source": [
    "# Solution\n",
    "stint_df <- read.csv('stint_data_wide_pm.csv')\n",
    "head(stint_df)"
   ]
  },
  {
   "cell_type": "markdown",
   "id": "bebce81a-7a84-4344-a537-2be0c3e6d319",
   "metadata": {
    "editable": true,
    "slideshow": {
     "slide_type": ""
    },
    "tags": []
   },
   "source": [
    "Here's the big idea. Let's use linear regression to predict the plus-minus of a stint based on the players on the court during that stint:\n",
    "\n",
    "$$\n",
    "\\text{PM} = \\beta_0 + \\sum_{i = 1}^{k} \\beta_i \\text{Player}_i + \\varepsilon, \\qquad \\varepsilon \\sim N(0, \\sigma_{\\varepsilon}^2)\n",
    "$$\n",
    "\n",
    "where $k$ is the total number of players, and \n",
    "\n",
    "$$\n",
    "\\text{Player}_i = \\begin{cases}\n",
    "+1 & \\text{if player $i$ is on the court for the home team during the stint}\\\\\n",
    "-1 & \\text{if player $i$ is on the court for the away team during the stint} \\\\\n",
    "0 & \\text{otherwise} \\\\\n",
    "\\end{cases}\n",
    "\\quad \\text{for } i = 1,\\dots,k\n",
    "$$\n",
    "\n",
    "We will then use the estimated coefficients of the fitted model as the adjusted plus-minus values of each player."
   ]
  },
  {
   "cell_type": "markdown",
   "id": "104b3823-1515-4de7-8a7d-1a692ed2c5d2",
   "metadata": {},
   "source": [
    "__Fit the model above using R.__\n",
    "\n",
    "Some R tips:\n",
    "\n",
    "- In a model formula, you can include all the other variables in a data frame with `.`.\n",
    "- You can remove variables in a dataframe with `-`."
   ]
  },
  {
   "cell_type": "code",
   "execution_count": null,
   "id": "15bf10f3-b6c3-4a48-a19e-2a0c9248754f",
   "metadata": {
    "editable": true,
    "slideshow": {
     "slide_type": ""
    },
    "tags": []
   },
   "outputs": [],
   "source": []
  },
  {
   "cell_type": "code",
   "execution_count": 2,
   "id": "f70c8646-e997-424a-9778-b117a4c3f916",
   "metadata": {
    "editable": true,
    "scrolled": true,
    "slideshow": {
     "slide_type": ""
    },
    "tags": [
     "solution"
    ]
   },
   "outputs": [
    {
     "data": {
      "text/plain": [
       "\n",
       "Call:\n",
       "lm(formula = pm ~ . - game_id - stint_id - h_team - a_team - \n",
       "    minutes - h_goals - a_goals, data = stint_df)\n",
       "\n",
       "Residuals:\n",
       "     Min       1Q   Median       3Q      Max \n",
       "-30.5347  -0.7407   0.0015   0.7167  30.9460 \n",
       "\n",
       "Coefficients: (1 not defined because of singularities)\n",
       "                  Estimate Std. Error t value Pr(>|t|)    \n",
       "(Intercept)        0.09383    0.01670   5.617 2.01e-08 ***\n",
       "USA_p1             0.35910    0.17953   2.000 0.045512 *  \n",
       "USA_p2             0.03592    0.18292   0.196 0.844341    \n",
       "USA_p3             0.44614    0.20868   2.138 0.032560 *  \n",
       "USA_p4            -0.69949    0.22799  -3.068 0.002163 ** \n",
       "USA_p5            -0.28498    0.14463  -1.970 0.048827 *  \n",
       "USA_p6            -0.13921    0.19510  -0.714 0.475542    \n",
       "USA_p7             0.27014    0.14779   1.828 0.067615 .  \n",
       "USA_p8             0.29755    0.15296   1.945 0.051782 .  \n",
       "USA_p9             0.01953    0.16174   0.121 0.903897    \n",
       "USA_p10           -0.11514    0.16481  -0.699 0.484824    \n",
       "USA_p11            0.29785    0.21539   1.383 0.166751    \n",
       "USA_p12            0.23721    0.17996   1.318 0.187487    \n",
       "Japan_p1           0.14634    0.15690   0.933 0.351008    \n",
       "Japan_p2          -0.02744    0.17646  -0.155 0.876453    \n",
       "Japan_p3          -0.24886    0.13845  -1.797 0.072306 .  \n",
       "Japan_p4          -0.26172    0.18552  -1.411 0.158356    \n",
       "Japan_p5          -0.39786    0.13450  -2.958 0.003106 ** \n",
       "Japan_p6           0.11797    0.17522   0.673 0.500791    \n",
       "Japan_p7           0.34797    0.13393   2.598 0.009394 ** \n",
       "Japan_p8           0.08668    0.13826   0.627 0.530708    \n",
       "Japan_p9           0.16094    0.21630   0.744 0.456862    \n",
       "Japan_p10          0.06619    0.13781   0.480 0.631049    \n",
       "Japan_p11          0.17908    0.21421   0.836 0.403184    \n",
       "Japan_p12          0.57437    0.14707   3.905 9.49e-05 ***\n",
       "Great.Britain_p1   0.11158    0.15111   0.738 0.460298    \n",
       "Great.Britain_p2   0.60275    0.21745   2.772 0.005586 ** \n",
       "Great.Britain_p3   0.18151    0.13655   1.329 0.183802    \n",
       "Great.Britain_p4   0.10458    0.13601   0.769 0.441987    \n",
       "Great.Britain_p5  -0.32942    0.14171  -2.325 0.020119 *  \n",
       "Great.Britain_p6   0.21564    0.18437   1.170 0.242209    \n",
       "Great.Britain_p7  -0.10060    0.15008  -0.670 0.502673    \n",
       "Great.Britain_p8   0.02498    0.17922   0.139 0.889140    \n",
       "Great.Britain_p9  -0.01992    0.13697  -0.145 0.884374    \n",
       "Great.Britain_p10 -0.04563    0.16749  -0.272 0.785278    \n",
       "Great.Britain_p11  0.24792    0.13602   1.823 0.068389 .  \n",
       "Great.Britain_p12 -0.58456    0.22654  -2.580 0.009890 ** \n",
       "Canada_p1          0.03164    0.17656   0.179 0.857762    \n",
       "Canada_p2          0.07382    0.22493   0.328 0.742779    \n",
       "Canada_p3         -0.01606    0.13488  -0.119 0.905210    \n",
       "Canada_p4         -0.41731    0.13616  -3.065 0.002185 ** \n",
       "Canada_p5          0.05516    0.20670   0.267 0.789577    \n",
       "Canada_p6         -0.13952    0.13871  -1.006 0.314510    \n",
       "Canada_p7          0.08778    0.17556   0.500 0.617094    \n",
       "Canada_p8          0.12063    0.20907   0.577 0.563951    \n",
       "Canada_p9          0.36332    0.14764   2.461 0.013882 *  \n",
       "Canada_p10        -0.18106    0.16284  -1.112 0.266232    \n",
       "Canada_p11         0.45068    0.13506   3.337 0.000852 ***\n",
       "Canada_p12        -0.38305    0.18922  -2.024 0.042970 *  \n",
       "France_p1          0.06365    0.13472   0.472 0.636613    \n",
       "France_p2          0.29929    0.21299   1.405 0.160012    \n",
       "France_p3         -0.08358    0.18787  -0.445 0.656424    \n",
       "France_p4         -0.11936    0.13833  -0.863 0.388246    \n",
       "France_p5          0.15304    0.13669   1.120 0.262932    \n",
       "France_p6         -0.45018    0.18988  -2.371 0.017772 *  \n",
       "France_p7         -0.48701    0.15616  -3.119 0.001824 ** \n",
       "France_p8         -0.09763    0.14401  -0.678 0.497825    \n",
       "France_p9          0.26318    0.15367   1.713 0.086820 .  \n",
       "France_p10         0.68632    0.17217   3.986 6.78e-05 ***\n",
       "France_p11         0.52748    0.21051   2.506 0.012242 *  \n",
       "France_p12        -0.72692    0.15583  -4.665 3.14e-06 ***\n",
       "Denmark_p1        -0.02744    0.13719  -0.200 0.841475    \n",
       "Denmark_p2        -0.17323    0.13586  -1.275 0.202302    \n",
       "Denmark_p3         0.20199    0.17485   1.155 0.248049    \n",
       "Denmark_p4        -0.20318    0.13977  -1.454 0.146074    \n",
       "Denmark_p5         0.11773    0.17256   0.682 0.495095    \n",
       "Denmark_p6        -0.06311    0.15665  -0.403 0.687054    \n",
       "Denmark_p7        -0.56122    0.18571  -3.022 0.002519 ** \n",
       "Denmark_p8         0.82137    0.21039   3.904 9.54e-05 ***\n",
       "Denmark_p9        -0.04890    0.15578  -0.314 0.753628    \n",
       "Denmark_p10        0.46597    0.17194   2.710 0.006743 ** \n",
       "Denmark_p11       -0.21531    0.14560  -1.479 0.139231    \n",
       "Denmark_p12       -0.12733    0.13442  -0.947 0.343514    \n",
       "Sweden_p1          0.26637    0.18088   1.473 0.140902    \n",
       "Sweden_p2         -0.02766    0.15099  -0.183 0.854625    \n",
       "Sweden_p3         -0.09592    0.13487  -0.711 0.476961    \n",
       "Sweden_p4          0.27357    0.22679   1.206 0.227757    \n",
       "Sweden_p5         -0.66079    0.22864  -2.890 0.003863 ** \n",
       "Sweden_p6         -0.39716    0.13506  -2.941 0.003286 ** \n",
       "Sweden_p7         -0.20505    0.16792  -1.221 0.222084    \n",
       "Sweden_p8         -0.11414    0.17739  -0.643 0.519983    \n",
       "Sweden_p9          0.27386    0.22736   1.205 0.228422    \n",
       "Sweden_p10        -0.01848    0.13597  -0.136 0.891920    \n",
       "Sweden_p11         0.14037    0.17798   0.789 0.430338    \n",
       "Sweden_p12        -0.18262    0.13543  -1.348 0.177582    \n",
       "Brazil_p1          0.56353    0.13540   4.162 3.19e-05 ***\n",
       "Brazil_p2         -0.92797    0.19379  -4.789 1.71e-06 ***\n",
       "Brazil_p3         -0.51653    0.13589  -3.801 0.000145 ***\n",
       "Brazil_p4         -0.66981    0.19555  -3.425 0.000618 ***\n",
       "Brazil_p5          0.23207    0.13768   1.686 0.091906 .  \n",
       "Brazil_p6         -0.10370    0.13497  -0.768 0.442289    \n",
       "Brazil_p7          0.05497    0.13557   0.406 0.685109    \n",
       "Brazil_p8          0.60479    0.22308   2.711 0.006723 ** \n",
       "Brazil_p9          0.23097    0.21992   1.050 0.293629    \n",
       "Brazil_p10        -0.37530    0.15501  -2.421 0.015498 *  \n",
       "Brazil_p11         0.43741    0.22025   1.986 0.047074 *  \n",
       "Brazil_p12         0.64943    0.18662   3.480 0.000504 ***\n",
       "Columbia_p1       -0.39376    0.19818  -1.987 0.046969 *  \n",
       "Columbia_p2        0.23150    0.16915   1.369 0.171173    \n",
       "Columbia_p3        0.26118    0.13332   1.959 0.050143 .  \n",
       "Columbia_p4       -0.04180    0.13394  -0.312 0.755021    \n",
       "Columbia_p5        0.24551    0.16854   1.457 0.145251    \n",
       "Columbia_p6       -0.50567    0.19904  -2.541 0.011088 *  \n",
       "Columbia_p7       -0.02068    0.13320  -0.155 0.876644    \n",
       "Columbia_p8       -0.02548    0.13439  -0.190 0.849659    \n",
       "Columbia_p9        0.22172    0.16894   1.312 0.189422    \n",
       "Columbia_p10      -0.49478    0.15629  -3.166 0.001553 ** \n",
       "Columbia_p11      -0.28586    0.15528  -1.841 0.065664 .  \n",
       "Columbia_p12      -0.33981    0.15626  -2.175 0.029688 *  \n",
       "Poland_p1          0.29939    0.17865   1.676 0.093809 .  \n",
       "Poland_p2         -0.13179    0.17890  -0.737 0.461340    \n",
       "Poland_p3          0.16630    0.14533   1.144 0.252535    \n",
       "Poland_p4         -0.06015    0.18399  -0.327 0.743728    \n",
       "Poland_p5          0.02802    0.17879   0.157 0.875488    \n",
       "Poland_p6         -0.07292    0.18404  -0.396 0.691967    \n",
       "Poland_p7         -0.17118    0.17990  -0.952 0.341366    \n",
       "Poland_p8         -0.25792    0.14852  -1.737 0.082506 .  \n",
       "Poland_p9          0.20958    0.17786   1.178 0.238718    \n",
       "Poland_p10        -0.33600    0.14761  -2.276 0.022854 *  \n",
       "Poland_p11        -0.13808    0.14682  -0.940 0.347011    \n",
       "Poland_p12         0.05075    0.14809   0.343 0.731831    \n",
       "Argentina_p1      -0.41758    0.14937  -2.796 0.005194 ** \n",
       "Argentina_p2      -0.62005    0.16334  -3.796 0.000148 ***\n",
       "Argentina_p3      -0.12175    0.13611  -0.895 0.371082    \n",
       "Argentina_p4       0.41146    0.21036   1.956 0.050509 .  \n",
       "Argentina_p5      -1.06752    0.22918  -4.658 3.25e-06 ***\n",
       "Argentina_p6      -0.21433    0.13544  -1.582 0.113602    \n",
       "Argentina_p7       0.05111    0.13739   0.372 0.709869    \n",
       "Argentina_p8      -0.33399    0.16091  -2.076 0.037968 *  \n",
       "Argentina_p9      -0.19944    0.13404  -1.488 0.136826    \n",
       "Argentina_p10      0.25927    0.16870   1.537 0.124372    \n",
       "Argentina_p11     -0.54162    0.15988  -3.388 0.000709 ***\n",
       "Argentina_p12     -0.08456    0.13603  -0.622 0.534224    \n",
       "Chile_p1          -0.24521    0.11916  -2.058 0.039649 *  \n",
       "Chile_p2          -0.01181    0.21438  -0.055 0.956066    \n",
       "Chile_p3          -0.15355    0.11721  -1.310 0.190194    \n",
       "Chile_p4           0.15876    0.21528   0.737 0.460850    \n",
       "Chile_p5           0.04999    0.13944   0.358 0.719999    \n",
       "Chile_p6           0.06620    0.21422   0.309 0.757322    \n",
       "Chile_p7          -0.60872    0.14375  -4.235 2.32e-05 ***\n",
       "Chile_p8          -0.20303    0.13894  -1.461 0.143988    \n",
       "Chile_p9          -0.25428    0.14305  -1.778 0.075515 .  \n",
       "Chile_p10         -0.74154    0.13864  -5.349 9.14e-08 ***\n",
       "Chile_p11         -0.33983    0.15310  -2.220 0.026472 *  \n",
       "Chile_p12               NA         NA      NA       NA    \n",
       "---\n",
       "Signif. codes:  0 ‘***’ 0.001 ‘**’ 0.01 ‘*’ 0.05 ‘.’ 0.1 ‘ ’ 1\n",
       "\n",
       "Residual standard error: 1.429 on 7304 degrees of freedom\n",
       "Multiple R-squared:  0.1766,\tAdjusted R-squared:  0.1605 \n",
       "F-statistic: 10.96 on 143 and 7304 DF,  p-value: < 2.2e-16\n"
      ]
     },
     "metadata": {},
     "output_type": "display_data"
    }
   ],
   "source": [
    "# Solution\n",
    "fit <- lm(\n",
    "    pm\n",
    "    ~\n",
    "    .\n",
    "    - game_id\n",
    "    - stint_id\n",
    "    - h_team\n",
    "    - a_team\n",
    "    - minutes\n",
    "    - h_goals\n",
    "    - a_goals,\n",
    "    data = stint_df\n",
    ")\n",
    "\n",
    "summary(fit)"
   ]
  },
  {
   "cell_type": "markdown",
   "id": "830ace64-3e36-4d88-a341-c71010ccee3e",
   "metadata": {
    "editable": true,
    "slideshow": {
     "slide_type": ""
    },
    "tags": []
   },
   "source": [
    "__Looking at the output, which player is the reference player?__"
   ]
  },
  {
   "cell_type": "markdown",
   "id": "02126074-a74e-4481-93a7-2f3374c6a253",
   "metadata": {
    "editable": true,
    "slideshow": {
     "slide_type": ""
    },
    "tags": []
   },
   "source": [
    "_Write your answer here. Double-click to edit._"
   ]
  },
  {
   "cell_type": "markdown",
   "id": "b03cd9c6-e999-4fe9-804e-cad8a191b419",
   "metadata": {
    "editable": true,
    "slideshow": {
     "slide_type": ""
    },
    "tags": [
     "solution"
    ]
   },
   "source": [
    "_Solution._ Chile_p12."
   ]
  },
  {
   "cell_type": "markdown",
   "id": "202b1aee-08f9-475d-9c45-c614e1f97404",
   "metadata": {
    "editable": true,
    "slideshow": {
     "slide_type": ""
    },
    "tags": []
   },
   "source": [
    "__What is the predicted plus-minus in a stint with USA_p1, USA_p2, USA_p3, USA_p4 as the home team, and Canada_p9, Canada_p10, Canada_p11, Canada_p12 as the away team? \n",
    "Use the code cell below as a calculator.__"
   ]
  },
  {
   "cell_type": "code",
   "execution_count": null,
   "id": "a2fd6c85-6e2f-4035-a376-2454c1e6a84c",
   "metadata": {
    "editable": true,
    "slideshow": {
     "slide_type": ""
    },
    "tags": []
   },
   "outputs": [],
   "source": []
  },
  {
   "cell_type": "code",
   "execution_count": 3,
   "id": "b0722fd7-80cc-4dfd-8824-7a4ecaab651d",
   "metadata": {
    "editable": true,
    "slideshow": {
     "slide_type": ""
    },
    "tags": [
     "solution"
    ]
   },
   "outputs": [
    {
     "data": {
      "text/html": [
       "-0.01439"
      ],
      "text/latex": [
       "-0.01439"
      ],
      "text/markdown": [
       "-0.01439"
      ],
      "text/plain": [
       "[1] -0.01439"
      ]
     },
     "metadata": {},
     "output_type": "display_data"
    }
   ],
   "source": [
    "# Solution\n",
    "0.09383 + (1 * 0.35910) + (1 * 0.03592) + (1 * 0.44614) + (1 * -0.69949) + (-1 * 0.36332) + (-1 * -0.18106) + (-1 * 0.45068) + (-1 * -0.38305) "
   ]
  },
  {
   "cell_type": "markdown",
   "id": "8755037f-340c-43e3-bcb3-39fc088aaf52",
   "metadata": {
    "editable": true,
    "slideshow": {
     "slide_type": ""
    },
    "tags": []
   },
   "source": [
    "__From Team USA's perspective, did USA_p4 have a positive or negative efffect on the predicted plus-minus value of this stint?__"
   ]
  },
  {
   "cell_type": "markdown",
   "id": "757b9145-8a22-4d56-bb90-d16eddc74c08",
   "metadata": {
    "editable": true,
    "slideshow": {
     "slide_type": ""
    },
    "tags": []
   },
   "source": [
    "_Write your answer here. Double-click to edit._"
   ]
  },
  {
   "cell_type": "markdown",
   "id": "dc14602a-a0ce-4ec1-a4ab-c49fdc79ac75",
   "metadata": {
    "editable": true,
    "slideshow": {
     "slide_type": ""
    },
    "tags": [
     "solution"
    ]
   },
   "source": [
    "_Solution._\n",
    "USA_p4 contributes -0.69949 to the plus-minus value of the stint. Since USA is the home team, USA_p4 has a negative effect. "
   ]
  },
  {
   "cell_type": "markdown",
   "id": "9cb69aeb-4823-481a-996a-bb534829fbe8",
   "metadata": {
    "editable": true,
    "slideshow": {
     "slide_type": ""
    },
    "tags": []
   },
   "source": [
    "__From Team Canada's perspective, did Canada_p12 have a positive or negative effect on the predicted plus-minus value of this stint?__"
   ]
  },
  {
   "cell_type": "markdown",
   "id": "b35b30e3-cedf-45fd-b37b-29065f51441c",
   "metadata": {
    "editable": true,
    "slideshow": {
     "slide_type": ""
    },
    "tags": []
   },
   "source": [
    "_Write your answer here. Double-click to edit._"
   ]
  },
  {
   "cell_type": "markdown",
   "id": "9ae2f6dd-67fa-4f2e-9baa-14b46755dab7",
   "metadata": {
    "editable": true,
    "slideshow": {
     "slide_type": ""
    },
    "tags": [
     "solution"
    ]
   },
   "source": [
    "_Solution._ Canada_p12 contributed 0.38305 to the plus-minus value of the stint. Since Canada is the away team, Canada_p12 also has a negative effect."
   ]
  },
  {
   "cell_type": "markdown",
   "id": "c1de3ca0-9ae3-4900-921d-90a0b8e44dee",
   "metadata": {},
   "source": [
    "__Based on your answers above, explain why it makes sense to use the estimated coefficients of the fitted model as the adjusted plus-minus values for each player.__"
   ]
  },
  {
   "cell_type": "markdown",
   "id": "e1e4de8c-9a48-4ffa-b0c1-6b9647d69efe",
   "metadata": {},
   "source": [
    "_Write your answer here. Double-click to edit._"
   ]
  },
  {
   "cell_type": "markdown",
   "id": "04f56eaf-6c4b-46df-aef4-26a2a8c4c822",
   "metadata": {
    "editable": true,
    "slideshow": {
     "slide_type": ""
    },
    "tags": [
     "solution"
    ]
   },
   "source": [
    "_Solution._ The estimated coefficients measure how much each player contributes to the plus-minus of a stint, relative to the reference player, who is Chile_p12 in this case.\n",
    "This is a measure of the relative contributions of each player."
   ]
  },
  {
   "cell_type": "markdown",
   "id": "6ab0af19-a9dd-4eda-812f-5cfbb4dae9c6",
   "metadata": {},
   "source": [
    "__Output the estimated coefficients to a CSV file.__\n",
    "\n",
    "Some R tips:\n",
    "- You can create a data frame of the coefficients like this: `coefs_df <- data.frame(coef(fit))`.\n",
    "- You can write a CSV file in R using `write.csv()` - Google for the documentation."
   ]
  },
  {
   "cell_type": "code",
   "execution_count": null,
   "id": "9b1978d7-e455-4518-9026-99dcf99d6837",
   "metadata": {
    "editable": true,
    "slideshow": {
     "slide_type": ""
    },
    "tags": []
   },
   "outputs": [],
   "source": []
  },
  {
   "cell_type": "code",
   "execution_count": 4,
   "id": "0aa5ec27-874b-4cde-8a1f-486199686e2f",
   "metadata": {
    "editable": true,
    "slideshow": {
     "slide_type": ""
    },
    "tags": [
     "solution"
    ]
   },
   "outputs": [],
   "source": [
    "# Solution\n",
    "coefs_df <- data.frame(coef(fit))\n",
    "write.csv(coefs_df, 'coefs.csv')"
   ]
  }
 ],
 "metadata": {
  "kernelspec": {
   "display_name": "R",
   "language": "R",
   "name": "ir"
  },
  "language_info": {
   "codemirror_mode": "r",
   "file_extension": ".r",
   "mimetype": "text/x-r-source",
   "name": "R",
   "pygments_lexer": "r",
   "version": "4.2.2"
  }
 },
 "nbformat": 4,
 "nbformat_minor": 5
}
