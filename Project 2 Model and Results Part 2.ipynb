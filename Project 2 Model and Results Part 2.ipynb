{
 "cells": [
  {
   "cell_type": "markdown",
   "id": "7b67f2a3-5351-4d83-a8c1-732d115615a8",
   "metadata": {
    "editable": true,
    "slideshow": {
     "slide_type": ""
    },
    "tags": []
   },
   "source": [
    "**Operations Research in Action &#x25aa; Fall 2024**"
   ]
  },
  {
   "cell_type": "markdown",
   "id": "05e16b46-4fcc-4160-90ee-c11cec494659",
   "metadata": {
    "editable": true,
    "slideshow": {
     "slide_type": ""
    },
    "tags": []
   },
   "source": [
    "# Project 2 &ndash; Model and Results &ndash; Part 2"
   ]
  },
  {
   "cell_type": "markdown",
   "id": "3eba8feb-91b4-461b-bbf0-974ec322c563",
   "metadata": {},
   "source": [
    "How can we create the __adjusted plus-minus__ for each player? \n",
    "In other words, how can we measure the relative contribution of each player when they are on the court?"
   ]
  },
  {
   "cell_type": "markdown",
   "id": "fc8eeeba-4da6-4ef1-8193-b0b9b281b1a3",
   "metadata": {},
   "source": [
    "__Read in the data we created in Part 1.__"
   ]
  },
  {
   "cell_type": "code",
   "execution_count": null,
   "id": "858eb93d-3c47-4a6f-aebc-93d9d39e364c",
   "metadata": {},
   "outputs": [],
   "source": []
  },
  {
   "cell_type": "markdown",
   "id": "bebce81a-7a84-4344-a537-2be0c3e6d319",
   "metadata": {
    "editable": true,
    "slideshow": {
     "slide_type": ""
    },
    "tags": []
   },
   "source": [
    "Here's the big idea. Let's use linear regression to predict the plus-minus of a stint based on the players on the court during that stint:\n",
    "\n",
    "$$\n",
    "\\text{PM} = \\beta_0 + \\sum_{i = 1}^{k} \\beta_i \\text{Player}_i + \\varepsilon, \\qquad \\varepsilon \\sim N(0, \\sigma_{\\varepsilon}^2)\n",
    "$$\n",
    "\n",
    "where $k$ is the total number of players, and \n",
    "\n",
    "$$\n",
    "\\text{Player}_i = \\begin{cases}\n",
    "+1 & \\text{if player $i$ is on the court for the home team during the stint}\\\\\n",
    "-1 & \\text{if player $i$ is on the court for the away team during the stint} \\\\\n",
    "0 & \\text{otherwise} \\\\\n",
    "\\end{cases}\n",
    "\\quad \\text{for } i = 1,\\dots,k\n",
    "$$\n",
    "\n",
    "We will then use the estimated coefficients of the fitted model as the adjusted plus-minus values of each player."
   ]
  },
  {
   "cell_type": "markdown",
   "id": "104b3823-1515-4de7-8a7d-1a692ed2c5d2",
   "metadata": {},
   "source": [
    "__Fit the model above using R.__\n",
    "\n",
    "Some R tips:\n",
    "\n",
    "- In a model formula, you can include all the other variables in a data frame with `.`.\n",
    "- You can remove variables in a dataframe with `-`."
   ]
  },
  {
   "cell_type": "code",
   "execution_count": null,
   "id": "15bf10f3-b6c3-4a48-a19e-2a0c9248754f",
   "metadata": {
    "editable": true,
    "slideshow": {
     "slide_type": ""
    },
    "tags": []
   },
   "outputs": [],
   "source": []
  },
  {
   "cell_type": "markdown",
   "id": "830ace64-3e36-4d88-a341-c71010ccee3e",
   "metadata": {
    "editable": true,
    "slideshow": {
     "slide_type": ""
    },
    "tags": []
   },
   "source": [
    "__Looking at the output, which player is the reference player?__"
   ]
  },
  {
   "cell_type": "markdown",
   "id": "02126074-a74e-4481-93a7-2f3374c6a253",
   "metadata": {
    "editable": true,
    "slideshow": {
     "slide_type": ""
    },
    "tags": []
   },
   "source": [
    "_Write your answer here. Double-click to edit._"
   ]
  },
  {
   "cell_type": "markdown",
   "id": "202b1aee-08f9-475d-9c45-c614e1f97404",
   "metadata": {
    "editable": true,
    "slideshow": {
     "slide_type": ""
    },
    "tags": []
   },
   "source": [
    "__What is the predicted plus-minus in a stint with USA_p1, USA_p2, USA_p3, USA_p4 as the home team, and Canada_p9, Canada_p10, Canada_p11, Canada_p12 as the away team? \n",
    "Use the code cell below as a calculator.__"
   ]
  },
  {
   "cell_type": "code",
   "execution_count": null,
   "id": "a2fd6c85-6e2f-4035-a376-2454c1e6a84c",
   "metadata": {
    "editable": true,
    "slideshow": {
     "slide_type": ""
    },
    "tags": []
   },
   "outputs": [],
   "source": []
  },
  {
   "cell_type": "markdown",
   "id": "8755037f-340c-43e3-bcb3-39fc088aaf52",
   "metadata": {
    "editable": true,
    "slideshow": {
     "slide_type": ""
    },
    "tags": []
   },
   "source": [
    "__From Team USA's perspective, did USA_p4 have a positive or negative efffect on the predicted plus-minus value of this stint?__"
   ]
  },
  {
   "cell_type": "markdown",
   "id": "757b9145-8a22-4d56-bb90-d16eddc74c08",
   "metadata": {
    "editable": true,
    "slideshow": {
     "slide_type": ""
    },
    "tags": []
   },
   "source": [
    "_Write your answer here. Double-click to edit._"
   ]
  },
  {
   "cell_type": "markdown",
   "id": "9cb69aeb-4823-481a-996a-bb534829fbe8",
   "metadata": {
    "editable": true,
    "slideshow": {
     "slide_type": ""
    },
    "tags": []
   },
   "source": [
    "__From Team Canada's perspective, did Canada_p12 have a positive or negative effect on the predicted plus-minus value of this stint?__"
   ]
  },
  {
   "cell_type": "markdown",
   "id": "b35b30e3-cedf-45fd-b37b-29065f51441c",
   "metadata": {
    "editable": true,
    "slideshow": {
     "slide_type": ""
    },
    "tags": []
   },
   "source": [
    "_Write your answer here. Double-click to edit._"
   ]
  },
  {
   "cell_type": "markdown",
   "id": "c1de3ca0-9ae3-4900-921d-90a0b8e44dee",
   "metadata": {},
   "source": [
    "__Based on your answers above, explain why it makes sense to use the estimated coefficients of the fitted model as the adjusted plus-minus values for each player.__"
   ]
  },
  {
   "cell_type": "markdown",
   "id": "e1e4de8c-9a48-4ffa-b0c1-6b9647d69efe",
   "metadata": {},
   "source": [
    "_Write your answer here. Double-click to edit._"
   ]
  },
  {
   "cell_type": "markdown",
   "id": "6ab0af19-a9dd-4eda-812f-5cfbb4dae9c6",
   "metadata": {},
   "source": [
    "__Output the estimated coefficients to a CSV file.__\n",
    "\n",
    "Some R tips:\n",
    "- You can create a data frame of the coefficients like this: `coefs_df <- data.frame(coef(fit))`.\n",
    "- You can write a CSV file in R using `write.csv()` - Google for the documentation."
   ]
  },
  {
   "cell_type": "code",
   "execution_count": null,
   "id": "9b1978d7-e455-4518-9026-99dcf99d6837",
   "metadata": {
    "editable": true,
    "slideshow": {
     "slide_type": ""
    },
    "tags": []
   },
   "outputs": [],
   "source": []
  }
 ],
 "metadata": {
  "kernelspec": {
   "display_name": "R",
   "language": "R",
   "name": "ir"
  },
  "language_info": {
   "codemirror_mode": "r",
   "file_extension": ".r",
   "mimetype": "text/x-r-source",
   "name": "R",
   "pygments_lexer": "r",
   "version": "4.2.2"
  }
 },
 "nbformat": 4,
 "nbformat_minor": 5
}
